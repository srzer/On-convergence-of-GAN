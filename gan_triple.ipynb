{
  "cells": [
    {
      "cell_type": "markdown",
      "id": "ef99bd7a",
      "metadata": {
        "deletable": false,
        "editable": false,
        "id": "ef99bd7a",
        "nbgrader": {
          "cell_type": "markdown",
          "checksum": "402558f435a5548c81ffbea1d7270c76",
          "grade": false,
          "grade_id": "cell-140b078480df53e1",
          "locked": true,
          "schema_version": 3,
          "solution": false,
          "task": false
        }
      },
      "source": [
        "## Introduction\n",
        "\n",
        "We will use Python 3, [NumPy](https://numpy.org/), and [PyTorch](https://pytorch.org/) packages for implementation. To avoid unexpected issues with PyTorch 2.0, we recommend using PyTorch version 1.x.\n",
        "\n",
        "In this coding project, you will implement 4 generative models, i.e., energy-based model, flow-based model, variational auto-encoder, and generative adverserial network, to generate MNIST images.\n",
        "\n",
        "**We will implement a generative adversarial network, specifically a [Deep Convolutional Generative Adversarial Network](https://arxiv.org/abs/1511.06434) (DCGAN), in this notebook.**"
      ]
    },
    {
      "cell_type": "markdown",
      "id": "oqRmmX2iB2ee",
      "metadata": {
        "id": "oqRmmX2iB2ee"
      },
      "source": [
        "If you use Colab in this coding project, please uncomment the cell below, change the `GOOGLE_DRIVE_PATH` to your project folder and run the following cell to mount your Google drive. Then, the notebook can find the required files (i.e., utils.py). If you run the notebook locally, you can skip this cell."
      ]
    },
    {
      "cell_type": "code",
      "execution_count": null,
      "id": "l984Tp6dBx8q",
      "metadata": {
        "id": "l984Tp6dBx8q"
      },
      "outputs": [],
      "source": [
        "# ### uncomment this cell if you're using Google colab\n",
        "# from google.colab import drive\n",
        "# drive.mount('/content/drive')\n",
        "\n",
        "# ### change GOOGLE_DRIVE_PATH to the path of your CP3 folder\n",
        "# GOOGLE_DRIVE_PATH = '/content/drive/MyDrive/Colab Notebooks/DL23SP/CP3'\n",
        "# %cd $GOOGLE_DRIVE_PATH"
      ]
    },
    {
      "cell_type": "code",
      "execution_count": null,
      "id": "646d3387",
      "metadata": {
        "deletable": false,
        "editable": false,
        "id": "646d3387",
        "nbgrader": {
          "cell_type": "code",
          "checksum": "72f819efa5ea54c7477890fde5263cbe",
          "grade": false,
          "grade_id": "cell-0cf7ad287c5ff88c",
          "locked": true,
          "schema_version": 3,
          "solution": false,
          "task": false
        }
      },
      "outputs": [],
      "source": [
        "import matplotlib.pyplot as plt\n",
        "import matplotlib.image as mpimg\n",
        "from matplotlib import rcParams\n",
        "\n",
        "%matplotlib inline\n",
        "\n",
        "# figure size in inches optional\n",
        "rcParams['figure.figsize'] = 6, 4\n",
        "plt.imshow(mpimg.imread('./gan/sample.png'))"
      ]
    },
    {
      "cell_type": "markdown",
      "id": "dd040c70",
      "metadata": {
        "deletable": false,
        "editable": false,
        "id": "dd040c70",
        "nbgrader": {
          "cell_type": "markdown",
          "checksum": "54854fcdc1556d353b55bc4d1a133674",
          "grade": false,
          "grade_id": "cell-2b4bea3e44a7b81b",
          "locked": true,
          "schema_version": 3,
          "solution": false,
          "task": false
        }
      },
      "source": [
        "## Set Up Code"
      ]
    },
    {
      "cell_type": "markdown",
      "id": "4eca3738",
      "metadata": {
        "deletable": false,
        "editable": false,
        "id": "4eca3738",
        "nbgrader": {
          "cell_type": "markdown",
          "checksum": "0bb447e0084709f0b673b1e91ba0aa1a",
          "grade": false,
          "grade_id": "cell-291232b1c59e4f02",
          "locked": true,
          "schema_version": 3,
          "solution": false,
          "task": false
        }
      },
      "source": [
        "If you use Colab in this coding project, please make sure to mount your drive before running the cells below."
      ]
    },
    {
      "cell_type": "code",
      "execution_count": null,
      "id": "d8c2354b",
      "metadata": {
        "deletable": false,
        "editable": false,
        "id": "d8c2354b",
        "nbgrader": {
          "cell_type": "code",
          "checksum": "b34bc8b23f9c8e480a9671ef3453e7ac",
          "grade": false,
          "grade_id": "cell-a551fcc5ff27fb87",
          "locked": true,
          "schema_version": 3,
          "solution": false,
          "task": false
        }
      },
      "outputs": [],
      "source": [
        "%load_ext autoreload\n",
        "%autoreload 2"
      ]
    },
    {
      "cell_type": "code",
      "execution_count": null,
      "id": "f6cd2080",
      "metadata": {
        "deletable": false,
        "editable": false,
        "id": "f6cd2080",
        "nbgrader": {
          "cell_type": "code",
          "checksum": "0d5d6f96e1d7ce5df1315172b57173de",
          "grade": false,
          "grade_id": "cell-e11eaf041d72deda",
          "locked": true,
          "schema_version": 3,
          "solution": false,
          "task": false
        }
      },
      "outputs": [],
      "source": [
        "from utils import hello\n",
        "hello()"
      ]
    },
    {
      "cell_type": "markdown",
      "id": "cb9634e8",
      "metadata": {
        "deletable": false,
        "editable": false,
        "id": "cb9634e8",
        "nbgrader": {
          "cell_type": "markdown",
          "checksum": "08adb7a09810871eb77c9f30cb89a86f",
          "grade": false,
          "grade_id": "cell-fe84c884133acb94",
          "locked": true,
          "schema_version": 3,
          "solution": false,
          "task": false
        }
      },
      "source": [
        "Finally, please run the following cell to import some base classes for implementation (no matter whether you use colab)."
      ]
    },
    {
      "cell_type": "code",
      "execution_count": null,
      "id": "cfad252c",
      "metadata": {
        "deletable": false,
        "editable": false,
        "id": "cfad252c",
        "nbgrader": {
          "cell_type": "code",
          "checksum": "d2be319ada9c3d55956fa58ab4267353",
          "grade": false,
          "grade_id": "cell-f4c64652a7cd2343",
          "locked": true,
          "schema_version": 3,
          "solution": false,
          "task": false
        }
      },
      "outputs": [],
      "source": [
        "from collections import deque\n",
        "from torch.utils.data import DataLoader\n",
        "from tqdm.autonotebook import tqdm\n",
        "\n",
        "import numpy as np\n",
        "import os\n",
        "import time\n",
        "import torch\n",
        "import torch.nn as nn\n",
        "import torch.nn.functional as F\n",
        "import torchvision\n",
        "\n",
        "from utils import save_model, load_model, train_set\n",
        "\n",
        "seed = 42\n",
        "np.random.seed(seed)\n",
        "torch.manual_seed(seed)\n",
        "torch.cuda.manual_seed(seed)\n",
        "torch.backends.cudnn.deterministic = True\n",
        "\n",
        "device = torch.device(\n",
        "    \"cuda\") if torch.cuda.is_available() else torch.device(\"cpu\")"
      ]
    },
    {
      "cell_type": "markdown",
      "id": "e46fbcf1",
      "metadata": {
        "deletable": false,
        "editable": false,
        "id": "e46fbcf1",
        "nbgrader": {
          "cell_type": "markdown",
          "checksum": "68d8aa04bb241cac9cde4fc5eb3b1926",
          "grade": false,
          "grade_id": "cell-4044c35c561f5278",
          "locked": true,
          "schema_version": 3,
          "solution": false,
          "task": false
        }
      },
      "source": [
        "## Generator\n",
        "\n",
        "Please implement your own generator module, which should be a fully convolutional network with linear projection heads."
      ]
    },
    {
      "cell_type": "code",
      "execution_count": null,
      "id": "588faeb0",
      "metadata": {
        "deletable": false,
        "id": "588faeb0",
        "nbgrader": {
          "cell_type": "code",
          "checksum": "012a5781db6bebc2c960bf01c25e2867",
          "grade": false,
          "grade_id": "cell-59ccf1af419b1be5",
          "locked": false,
          "schema_version": 3,
          "solution": true,
          "task": false
        }
      },
      "outputs": [],
      "source": [
        "class Generator(nn.Module):\n",
        "    def __init__(self, latent_size):\n",
        "        super().__init__()\n",
        "        self.label_size = label_size = 10\n",
        "        self.latent_size = latent_size\n",
        "        self.hidden_size = hidden_size = 512\n",
        "        ##############################################################################\n",
        "        #                  TODO: You need to complete the code here                  #\n",
        "        ##############################################################################\n",
        "        # YOUR CODE HERE\n",
        "        ngf = 64\n",
        "        self.main = nn.Sequential(\n",
        "            nn.ConvTranspose2d(latent_size + label_size, ngf*4, 3, 2, 0, bias=False),\n",
        "            nn.BatchNorm2d(ngf*4),\n",
        "            nn.ReLU(True),\n",
        "            nn.ConvTranspose2d(ngf*4, ngf*2, 3, 2, 0, bias=False),\n",
        "            nn.BatchNorm2d(ngf*2),\n",
        "            nn.ReLU(True),\n",
        "            nn.ConvTranspose2d(ngf*2, ngf, 3, 2, 0, bias=False),\n",
        "            nn.BatchNorm2d(ngf),\n",
        "            nn.ReLU(True),\n",
        "            nn.ConvTranspose2d(ngf, 1, 3, 2, 2, 1, bias=False),\n",
        "        )\n",
        "        ##############################################################################\n",
        "        #                              END OF YOUR CODE                              #\n",
        "        ##############################################################################\n",
        "\n",
        "    def forward(self, z, label):\n",
        "        ##############################################################################\n",
        "        #                  TODO: You need to complete the code here                  #\n",
        "        ##############################################################################\n",
        "        # YOUR CODE HERE\n",
        "        label = label.view(-1, 1)\n",
        "        eye = torch.eye(self.label_size).to(device)\n",
        "        onehot = eye[label].view(-1, self.label_size).to(device)\n",
        "        x = torch.cat((z, onehot), dim = 1).view(-1, self.latent_size + self.label_size, 1, 1)\n",
        "        #x = self.prep(torch.cat((z, onehot), dim = 1)).view(-1, self.hidden_size, 1, 1)\n",
        "        x = self.main(x)\n",
        "        return x\n",
        "        ##############################################################################\n",
        "        #                              END OF YOUR CODE                              #\n",
        "        ##############################################################################\n",
        "\n",
        "    @torch.no_grad()\n",
        "    def sample_images(self, label, save=True, save_dir='./gan'):\n",
        "        self.eval()\n",
        "        n_samples = label.shape[0]\n",
        "        samples = self(torch.randn(\n",
        "            n_samples, self.latent_size).to(label.device), label)\n",
        "        imgs = torch.sigmoid(samples).view(n_samples, 1, 28, 28)\n",
        "        if save:\n",
        "            os.makedirs(save_dir, exist_ok=True)\n",
        "            torchvision.utils.save_image(imgs, os.path.join(\n",
        "                save_dir, 'sample.png'), nrow=int(np.sqrt(n_samples)))\n",
        "        return imgs\n",
        "    \n",
        "    @torch.no_grad()\n",
        "    def make_dataset(self, n_samples_per_class=10, save=True, save_dir='./gan/generated/'):\n",
        "        self.eval()\n",
        "        device = next(self.parameters()).device\n",
        "        for i in range(self.label_size):\n",
        "            label = i * torch.ones(n_samples_per_class, dtype=torch.long, device=device)\n",
        "            samples = self(torch.randn(\n",
        "                n_samples_per_class, self.latent_size).to(device), label)\n",
        "            # imgs = torch.sigmoid(samples).view(n_samples_per_class, 1, 28, 28)\n",
        "            imgs = torch.clip(samples, 0, 1).view(n_samples_per_class, 1, 28, 28)\n",
        "            print(f\"Standard deviation of number {i}: {torch.std(imgs, dim=0).mean().item()}\")\n",
        "            if save:\n",
        "                os.makedirs(os.path.join(save_dir, str(i)), exist_ok=True)\n",
        "                for j in range(n_samples_per_class):\n",
        "                    torchvision.utils.save_image(imgs[j], os.path.join(save_dir, str(i), \"{}_{:>03d}.png\".format(i, j)))"
      ]
    },
    {
      "cell_type": "markdown",
      "id": "c522ef2d",
      "metadata": {
        "deletable": false,
        "editable": false,
        "id": "c522ef2d",
        "nbgrader": {
          "cell_type": "markdown",
          "checksum": "c91c3ec3373a8bbb2a1429a7c2bdb182",
          "grade": false,
          "grade_id": "cell-fb5d026a45cefc66",
          "locked": true,
          "schema_version": 3,
          "solution": false,
          "task": false
        }
      },
      "source": [
        "## Discriminator\n",
        "\n",
        "Please implement your own discriminator module, which should also be a fully convolutional network with linear projection heads.\n",
        "\n",
        "**Hint**: Pay attention to the shape of your output and the shape of label."
      ]
    },
    {
      "cell_type": "code",
      "execution_count": null,
      "id": "a4f8e820",
      "metadata": {
        "deletable": false,
        "id": "a4f8e820",
        "nbgrader": {
          "cell_type": "code",
          "checksum": "fa175f9ddebe8c6576006607e624ded2",
          "grade": false,
          "grade_id": "cell-423cd6fc3a090e6d",
          "locked": false,
          "schema_version": 3,
          "solution": true,
          "task": false
        }
      },
      "outputs": [],
      "source": [
        "class Discriminator(nn.Module):\n",
        "    def __init__(self):\n",
        "        super().__init__()\n",
        "        self.label_size = label_size = 10\n",
        "        self.input_size = input_size = 28*28\n",
        "        self.hidden_size = hidden_size = 512\n",
        "        ##############################################################################\n",
        "        #                  TODO: You need to complete the code here                  #\n",
        "        ##############################################################################\n",
        "        # YOUR CODE HERE\n",
        "        ndf = 28\n",
        "        self.main = nn.Sequential(\n",
        "            nn.Conv2d(1, ndf, 4, 2, 1, bias=False),\n",
        "            nn.LeakyReLU(0.2, inplace=True),\n",
        "            nn.Conv2d(ndf, ndf*2, 4, 2, 1, bias=False),\n",
        "            nn.BatchNorm2d(ndf*2),\n",
        "            nn.LeakyReLU(0.2, inplace=True),\n",
        "            nn.Conv2d(ndf*2, ndf*4, 4, 2, 1, bias=False),\n",
        "            nn.BatchNorm2d(ndf*4),\n",
        "            nn.LeakyReLU(0.2, inplace=True),\n",
        "            nn.Conv2d(ndf*4, 2, 4, 2, 1, bias=False),\n",
        "            nn.Sigmoid()\n",
        "        )\n",
        "        self.prep = nn.Linear(input_size+label_size, input_size)\n",
        "        ##############################################################################\n",
        "        #                              END OF YOUR CODE                              #\n",
        "        ##############################################################################\n",
        "\n",
        "    def forward(self, img, label):\n",
        "        ##############################################################################\n",
        "        #                  TODO: You need to complete the code here                  #\n",
        "        ##############################################################################\n",
        "        # YOUR CODE HERE\n",
        "        feature = torch.cat((img.view(img.shape[0], img.shape[1], self.input_size), label.reshape(img.shape[0], img.shape[1], self.label_size)), dim=-1)\n",
        "        feature = self.prep(feature).view(img.shape[0], img.shape[1], 28, 28)\n",
        "        out = self.main(feature).view(-1, 2)\n",
        "        return out\n",
        "        ##############################################################################\n",
        "        #                              END OF YOUR CODE                              #\n",
        "        ##############################################################################"
      ]
    },
    {
      "attachments": {},
      "cell_type": "markdown",
      "id": "794b321c",
      "metadata": {},
      "source": [
        "## Classifier\n",
        "\n",
        "Please implement your own classifier module, which should also be a fully convolutional network with linear projection heads."
      ]
    },
    {
      "cell_type": "code",
      "execution_count": null,
      "id": "7d7cbcbc",
      "metadata": {},
      "outputs": [],
      "source": [
        "class Classifier(nn.Module):\n",
        "    def __init__(self):\n",
        "        super().__init__()\n",
        "        self.label_size = label_size = 10\n",
        "        self.input_size = input_size = 28*28\n",
        "        self.hidden_size = hidden_size = 512\n",
        "        ##############################################################################\n",
        "        #                  TODO: You need to complete the code here                  #\n",
        "        ##############################################################################\n",
        "        # YOUR CODE HERE\n",
        "        ndf = 28\n",
        "        self.main = nn.Sequential(\n",
        "            nn.Conv2d(1, ndf, 4, 2, 1, bias=False),\n",
        "            nn.LeakyReLU(0.2, inplace=True),\n",
        "            nn.Conv2d(ndf, ndf*2, 4, 2, 1, bias=False),\n",
        "            nn.BatchNorm2d(ndf*2),\n",
        "            nn.LeakyReLU(0.2, inplace=True),\n",
        "            nn.Conv2d(ndf*2, ndf*4, 4, 2, 1, bias=False),\n",
        "            nn.BatchNorm2d(ndf*4),\n",
        "            nn.LeakyReLU(0.2, inplace=True),\n",
        "            nn.Conv2d(ndf*4, label_size, 4, 2, 1, bias=False),\n",
        "            nn.Sigmoid()\n",
        "        )\n",
        "        ##############################################################################\n",
        "        #                              END OF YOUR CODE                              #\n",
        "        ##############################################################################\n",
        "\n",
        "    def forward(self, img):\n",
        "        ##############################################################################\n",
        "        #                  TODO: You need to complete the code here                  #\n",
        "        ##############################################################################\n",
        "        # YOUR CODE HERE\n",
        "        out = self.main(img).view(-1, self.label_size)\n",
        "        return out\n",
        "        ##############################################################################\n",
        "        #                              END OF YOUR CODE                              #\n",
        "        ##############################################################################"
      ]
    },
    {
      "cell_type": "markdown",
      "id": "63ca474a",
      "metadata": {
        "deletable": false,
        "editable": false,
        "id": "63ca474a",
        "nbgrader": {
          "cell_type": "markdown",
          "checksum": "cda6f3c0c7022a425b7d75857a228110",
          "grade": false,
          "grade_id": "cell-f3a94f2efdf52eb8",
          "locked": true,
          "schema_version": 3,
          "solution": false,
          "task": false
        }
      },
      "source": [
        "## Training\n",
        "\n",
        "We have implemented the skeleton of train function. Please complete the missing loss computation part."
      ]
    },
    {
      "cell_type": "code",
      "execution_count": null,
      "id": "b573286a",
      "metadata": {},
      "outputs": [],
      "source": [
        "def paint(d_list, g_list, c_list):\n",
        "  plt.plot(d_list, label='train loss of discriminator')\n",
        "  plt.plot(g_list, label='train loss of generator')\n",
        "  plt.plot(c_list, label='train loss of classifier')\n",
        "  plt.legend()\n",
        "  plt.xlabel('Number of Samples')\n",
        "  plt.ylabel('Loss')\n",
        "  plt.title('Training Curves')\n",
        "  plt.savefig(\"./g.png\")"
      ]
    },
    {
      "cell_type": "code",
      "execution_count": null,
      "id": "86f7857a",
      "metadata": {
        "deletable": false,
        "id": "86f7857a",
        "nbgrader": {
          "cell_type": "code",
          "checksum": "af946accb82492bfa5a1145df649baa3",
          "grade": false,
          "grade_id": "cell-e952fc9b436526b4",
          "locked": false,
          "schema_version": 3,
          "solution": true,
          "task": false
        }
      },
      "outputs": [],
      "source": [
        "def train(n_epochs, generator, discriminator, classifier, train_loader, optimizer_g, optimizer_d, optimizer_c, device=torch.device('cuda'), save_interval=10):\n",
        "    generator.to(device)\n",
        "    discriminator.to(device)\n",
        "    classifier.to(device)\n",
        "    D_LOSS = []\n",
        "    G_LOSS = []\n",
        "    C_LOSS = []\n",
        "    for epoch in range(n_epochs):\n",
        "        train_g_loss = train_d_loss = train_c_loss = 0\n",
        "        n_batches = 0\n",
        "        pbar = tqdm(total=len(train_loader.dataset))\n",
        "        for i, (x, y) in enumerate(train_loader):\n",
        "            # compute loss\n",
        "            n_batches += x.shape[0]\n",
        "            x_real = x.to(device)\n",
        "            y_real = y.to(device)\n",
        "            ##############################################################################\n",
        "            #                  TODO: You need to complete the code here                  #\n",
        "            ##############################################################################\n",
        "            # YOUR CODE HERE\n",
        "            z = torch.randn(x.shape[0], generator.latent_size).to(device)\n",
        "            y_fake = y_real\n",
        "\n",
        "            criterion = nn.CrossEntropyLoss(reduction='sum')\n",
        "\n",
        "            classifier.train()\n",
        "            predict = classifier(x_real)\n",
        "            c_loss = criterion(predict, y_real)\n",
        "            \n",
        "            optimizer_c.zero_grad()\n",
        "            c_loss.backward()\n",
        "            optimizer_c.step()\n",
        "            \n",
        "            discriminator.train()\n",
        "            x_fake = torch.sigmoid(generator(z, y_fake))\n",
        "            d_real = discriminator(x_real, F.one_hot(y_real))\n",
        "            d_fake = discriminator(x_fake, classifier(x_fake))\n",
        "            # d_fake = discriminator(x_fake, F.one_hot(y_fake))\n",
        "            \n",
        "            d_loss_real = criterion(d_real, torch.ones_like(y_real))\n",
        "            d_loss_fake = criterion(d_fake, torch.zeros_like(y_fake))\n",
        "            \n",
        "            d_loss = d_loss_real + d_loss_fake\n",
        "            \n",
        "            optimizer_d.zero_grad()\n",
        "            d_loss.backward()\n",
        "            optimizer_d.step()\n",
        "\n",
        "            generator.train()\n",
        "            x_fake = torch.sigmoid(generator(z, y_fake))\n",
        "            pred = classifier(x_fake)\n",
        "            d_fake = discriminator(x_fake, pred)\n",
        "            # d_fake = discriminator(x_fake, torch.ones_like(y_fake))\n",
        "            g_loss_disc = criterion(d_fake, torch.ones_like(y_fake))\n",
        "            g_loss_class = criterion(pred, y_fake)\n",
        "            g_loss = g_loss_class + g_loss_disc\n",
        "            \n",
        "            optimizer_g.zero_grad()\n",
        "            g_loss.backward()\n",
        "            optimizer_g.step()\n",
        "            ##############################################################################\n",
        "            #                              END OF YOUR CODE                              #\n",
        "            ##############################################################################\n",
        "\n",
        "            D_LOSS.append(d_loss.sum().item())\n",
        "            G_LOSS.append(g_loss.sum().item())\n",
        "            C_LOSS.append(c_loss.sum().item())\n",
        "            \n",
        "            train_g_loss += g_loss.sum().item()\n",
        "            train_d_loss += d_loss.sum().item()\n",
        "            train_c_loss += c_loss.sum().item()\n",
        "\n",
        "            pbar.update(x.size(0))\n",
        "            pbar.set_description('Train Epoch {}, Generator Loss: {:.6f}, Discriminator Loss: {:.6f}, Classifier Loss: {:.6f}'.format(\n",
        "                epoch + 1, train_g_loss / n_batches, train_d_loss / n_batches, train_c_loss / n_batches))\n",
        "        pbar.close()\n",
        "\n",
        "        if (epoch + 1) % save_interval == 0:\n",
        "            os.makedirs(f'./gan/{epoch + 1}', exist_ok=True)\n",
        "            save_model(f'./gan/{epoch + 1}/gan.pth', generator, optimizer_g,\n",
        "                       discriminator=discriminator, optimizer_d=optimizer_d)\n",
        "\n",
        "            # sample and save images\n",
        "            label = torch.arange(10).repeat(10).to(device)\n",
        "            generator.sample_images(\n",
        "                label, save=True, save_dir=f\"./gan/{epoch + 1}/\")\n",
        "            save_model('./gan/gan_best.pth', generator, optimizer_g, discriminator, optimizer_d)\n",
        "    paint(d_list = D_LOSS, g_list = G_LOSS, c_list = C_LOSS)"
      ]
    },
    {
      "cell_type": "markdown",
      "id": "ebe4116d",
      "metadata": {
        "deletable": false,
        "editable": false,
        "id": "ebe4116d",
        "nbgrader": {
          "cell_type": "markdown",
          "checksum": "81f42ac9cf6e245edc7a2236059d1d11",
          "grade": false,
          "grade_id": "cell-7db259e660f5b395",
          "locked": true,
          "schema_version": 3,
          "solution": false,
          "task": false
        }
      },
      "source": [
        "## Enjoy\n",
        "\n",
        "Tune your hyperparameters and make your conditional DCGAN work. Good luck!"
      ]
    },
    {
      "cell_type": "code",
      "execution_count": null,
      "id": "d7629c75",
      "metadata": {
        "id": "d7629c75"
      },
      "outputs": [],
      "source": [
        "train_loader = DataLoader(train_set, batch_size=128, pin_memory=True,\n",
        "                          drop_last=False, shuffle=True, num_workers=8)\n",
        "\n",
        "g = Generator(100)\n",
        "d = Discriminator()\n",
        "c = Classifier()\n",
        "\n",
        "optimizer_g = torch.optim.Adam(g.parameters(), lr = 0.0002)\n",
        "optimizer_d = torch.optim.Adam(d.parameters(), lr = 0.0002)\n",
        "optimizer_c = torch.optim.Adam(c.parameters(), lr = 0.0002)\n",
        "\n",
        "train(30, g, d, c, train_loader, optimizer_g, optimizer_d, optimizer_c, device=device)\n",
        "\n",
        "state_dict = load_model('./gan/gan_best.pth')[0]\n",
        "g.load_state_dict(state_dict)\n",
        "g.make_dataset(n_samples_per_class=100)"
      ]
    },
    {
      "cell_type": "markdown",
      "id": "0855408b",
      "metadata": {
        "deletable": false,
        "editable": false,
        "id": "0855408b",
        "nbgrader": {
          "cell_type": "markdown",
          "checksum": "4b51f1b1c42c303fb59368080327be1c",
          "grade": false,
          "grade_id": "cell-b2a25a74aeb23f85",
          "locked": true,
          "schema_version": 3,
          "solution": false,
          "task": false
        }
      },
      "source": [
        "## Evaluation\n",
        "\n",
        "Make sure your code runs fine with the following cell!"
      ]
    },
    {
      "cell_type": "code",
      "execution_count": null,
      "id": "cb630939",
      "metadata": {
        "deletable": false,
        "editable": false,
        "id": "cb630939",
        "nbgrader": {
          "cell_type": "code",
          "checksum": "0523390c2c961b6d3637dff33f568fda",
          "grade": false,
          "grade_id": "cell-129d2a9b70fc707c",
          "locked": true,
          "schema_version": 3,
          "solution": false,
          "task": false
        }
      },
      "outputs": [],
      "source": [
        "!python evaluate_cgen.py --gan"
      ]
    }
  ],
  "metadata": {
    "colab": {
      "provenance": []
    },
    "kernelspec": {
      "display_name": "summer",
      "language": "python",
      "name": "python3"
    },
    "language_info": {
      "codemirror_mode": {
        "name": "ipython",
        "version": 3
      },
      "file_extension": ".py",
      "mimetype": "text/x-python",
      "name": "python",
      "nbconvert_exporter": "python",
      "pygments_lexer": "ipython3",
      "version": "3.11.3"
    },
    "toc": {
      "base_numbering": 1,
      "nav_menu": {},
      "number_sections": false,
      "sideBar": true,
      "skip_h1_title": false,
      "title_cell": "Table of Contents",
      "title_sidebar": "Contents",
      "toc_cell": false,
      "toc_position": {},
      "toc_section_display": true,
      "toc_window_display": false
    }
  },
  "nbformat": 4,
  "nbformat_minor": 5
}
